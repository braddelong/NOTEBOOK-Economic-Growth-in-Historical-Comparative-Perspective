{
 "cells": [
  {
   "cell_type": "markdown",
   "metadata": {},
   "source": [
    "# Patriarchy\n",
    "\n",
    "* **Patriarchy and DNA**: _[We Know Little About the Origins of High Patriarchy and the Extinction of Most Y-Chromosome Lineages ca. 5000 Years Ago, But...](https://www.bradford-delong.com/2018/07/we-know-little-about-the-origins-of-high-patriarchy-and-the-extinction-of-most-y-chromosome-lineages-ca-5000-years-ago-but.html)_ #gender"
   ]
  }
 ],
 "metadata": {
  "kernelspec": {
   "display_name": "Python 3",
   "language": "python",
   "name": "python3"
  },
  "language_info": {
   "codemirror_mode": {
    "name": "ipython",
    "version": 3
   },
   "file_extension": ".py",
   "mimetype": "text/x-python",
   "name": "python",
   "nbconvert_exporter": "python",
   "pygments_lexer": "ipython3",
   "version": "3.6.6"
  }
 },
 "nbformat": 4,
 "nbformat_minor": 2
}
