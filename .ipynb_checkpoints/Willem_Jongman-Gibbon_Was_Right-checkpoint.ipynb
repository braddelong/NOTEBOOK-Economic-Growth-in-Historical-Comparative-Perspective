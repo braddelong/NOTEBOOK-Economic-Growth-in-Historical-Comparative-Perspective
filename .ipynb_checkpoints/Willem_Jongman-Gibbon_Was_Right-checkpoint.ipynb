{
 "cells": [
  {
   "cell_type": "markdown",
   "metadata": {},
   "source": [
    "# Notes on Willem Jongman (2007): Gibbon Was Right: The Decline and Fall of The Roman Economy"
   ]
  },
  {
   "cell_type": "markdown",
   "metadata": {},
   "source": [
    "### Yes, There Was a Decline, and a Fall\n",
    "\n",
    "#### Mediterranean Shipwrecks (Commerce)\n",
    "\n",
    "<img style=\"display:block; margin-left:auto; margin-right:auto;\" src=\"https://delong.typepad.com/.a/6a00e551f080038834022ad37b32ee200c-pi\" alt=\"Https delong typepad com jongman gibbon was right pdf\" title=\"https___delong_typepad_com_jongman-gibbon-was-right_pdf.png\" border=\"0\" width=\"600\" height=\"349\" />\n",
    "\n",
    "&nbsp;"
   ]
  },
  {
   "cell_type": "markdown",
   "metadata": {},
   "source": [
    "#### European Lead Smelting (Semi-Elite Prosperity)\n",
    "\n",
    "<img style=\"display:block; margin-left:auto; margin-right:auto;\" src=\"https://delong.typepad.com/.a/6a00e551f080038834022ad37b3308200c-pi\" alt=\"Https delong typepad com jongman gibbon was right pdf\" title=\"https___delong_typepad_com_jongman-gibbon-was-right_pdf.png\" border=\"0\" width=\"600\" height=\"370\" />\n",
    "\n",
    "&nbsp;"
   ]
  },
  {
   "cell_type": "markdown",
   "metadata": {},
   "source": [
    "#### Wood Construction in the Rhineland (Urban Prosperity)\n",
    "\n",
    "<img style=\"display:block; margin-left:auto; margin-right:auto;\" src=\"https://delong.typepad.com/.a/6a00e551f080038834022ad37b3315200c-pi\" alt=\"Banners and Alerts and https delong typepad com jongman gibbon was right pdf\" title=\"Banners_and_Alerts_and_https___delong_typepad_com_jongman-gibbon-was-right_pdf.png\" border=\"0\" width=\"600\" height=\"333\" />\n",
    "\n",
    "&nbsp;"
   ]
  },
  {
   "cell_type": "markdown",
   "metadata": {},
   "source": [
    "#### Meat Consumption (Semi-Elite Prosperity)\n",
    "\n",
    "<img style=\"display:block; margin-left:auto; margin-right:auto;\" src=\"https://delong.typepad.com/.a/6a00e551f080038834022ad3a159cb200d-pi\" alt=\"Https delong typepad com jongman gibbon was right pdf\" title=\"https___delong_typepad_com_jongman-gibbon-was-right_pdf.png\" border=\"0\" width=\"600\" height=\"795\" />\n",
    "\n",
    "&nbsp;"
   ]
  },
  {
   "cell_type": "markdown",
   "metadata": {},
   "source": [
    "#### Leg Bone Length (Nutrition)\n",
    "\n",
    "<img style=\"display:block; margin-left:auto; margin-right:auto;\" src=\"https://delong.typepad.com/.a/6a00e551f080038834022ad37b3343200c-pi\" alt=\"Https delong typepad com jongman gibbon was right pdf\" title=\"https___delong_typepad_com_jongman-gibbon-was-right_pdf.png\" border=\"0\" width=\"600\" height=\"716\" />\n",
    "\n",
    "&nbsp;"
   ]
  },
  {
   "cell_type": "markdown",
   "metadata": {},
   "source": [
    "### For Whom Was There a Decline and Fall?\n",
    "\n",
    "For whom was the decline and fall of the western Roman Empire that commenced with the Antonine Plague a decline and fall? \n",
    "\n",
    "It was a decline and fall for:\n",
    "\n",
    "1. Those at the top of the state apparatus who saw their resources collapse, and their ability to avoid barbarian power projection into the empire decline.\n",
    "\n",
    "2. Those who were rich.\n",
    "\n",
    "3. Those who were urban, dependent on the flow of resources from the countryside to the city.\n",
    "\n",
    "4. Those in the countryside who had been prosperous and free, and who were now enserfed.\n",
    "\n",
    "5. Those who benefited from large-scale efficient production and distribution of conveniences.\n",
    "\n",
    "6. Those for whom the maintenance of the _pax Romana_ was really important.\n",
    "\n",
    "&nbsp;"
   ]
  },
  {
   "cell_type": "markdown",
   "metadata": {},
   "source": [
    "### What Happened to Those at the Bottom?\n",
    "\n",
    "The question is: what happened to those on the bottom, especially in the countryside? \n",
    "\n",
    "* They now are much more productive. \n",
    "* Yet they face increased pressures from above to exploit them more in order to compensate for the reduced rent flow from depopulation.\n",
    "* And they suffer from increased dissipative violence—both from their superiors and from barbarian invasions. \n",
    "* Yet on the other hand their increased value might have given them increased leverage: \n",
    "    * that was the case for western European serfs in the aftermath of the Black Death.\n",
    "    \n",
    "&nbsp;"
   ]
  },
  {
   "cell_type": "markdown",
   "metadata": {},
   "source": [
    "### Better to Be a Serf than a Slave\n",
    "\n",
    "My view: slave --> serf a definite improvement. For everyone else, a decline: loss of conveniences with the end of large-scale efficient production, loss of resource flow to city-dwellers, loss of resources that had underpinned the _pax Romana_. What is uncertain is the relative numbers of the winners and losers—and whether even the winners in terms of consumption were better off facing the barbarian rather then the slavemaster.\n",
    "\n",
    "&nbsp;"
   ]
  },
  {
   "cell_type": "markdown",
   "metadata": {},
   "source": [
    "**Willem Jongman** (2006): _[Gibbon Was Right: The Decline and Fall of The Roman Economy](https://delong.typepad.com/jongman-gibbon-was-right.pdf)_: \"For the naive historian, it would seem that we now have all we need: we have a range of examples of catastrophic decline, and some potential causes. What we do not yet have, however, are the mechanisms by which this shock propagated through the economic and social system. Imagine a pre-industrial and largely agricultural economy in a fairly stable equilibrium. Next that equilibrium is disturbed by mortality.... The biggest economic and social change, however, was to the land-labour ratio...<!--more-->\n",
    "\n",
    ">...More land per person inevitably means a lower aggregate production: production per hectare must have gone down since there was more land to work in the same amount of time.... Production per man hour must have gone up.... Rents must have gone down, and therefore the incomes of elite land-owners. The Roman  Empire should have turned into a world of happy and prosperous peasants, and much greater social equality than before. The theory is impeccable, but reality was, of course, very different....\n",
    "\n",
    ">A change in rural social relations... from the late second century... a new social, political and legal regime... honestiores and humiliores.... Demand for slaves declined because citizens could now be exploited more fully... the non-economic force of oppression.... The coloni of the _Saltus Burunitanus_ of 180 are not alone to complain to the emperor about increased oppression and growing abuse. When pushed hard enough. they could have moved, but that was precisely what was to become illegal.... The declining legal status of citizens was... an instrument imposed in the face of what would have been an improved economic position for the peasantry....\n",
    "\n",
    ">For me, the interesting thing is the resilience of the Roman state. For more than half a century, the Severan regime maintained... integrity and continuity.... The surprise is... that it survived... for so long that the crisis later became known as the crisis of the third century, rather than the crisis of the second century that I think it was.... As remarkable... is the recovery from Diocletian....\n",
    "\n",
    ">The real beginnings of that decline and fall... in... a period of much colder and dryer weather, and in the scourge of the Antonine Plague. With the growth of its Empire, with the growth of its cities, and with the growth of a system of government and transportation based on those cities, Rome and created the perhaps most prosperous and successful pre-industrial \n",
    "economy in history. The age of Antoninus Pius was indeed probably the best age to live in pre-industrial history.\n",
    "\n",
    "&nbsp;"
   ]
  },
  {
   "cell_type": "markdown",
   "metadata": {},
   "source": [
    "## <font color=\"880000\">Catch Our Breath</font>\n",
    "\n",
    "<img src=\"https://tinyurl.com/20181029a-delong\" width=\"300\" style=\"float:right\" />\n",
    "\n",
    "* Ask me two questions…\n",
    "* Make two comments…\n",
    "\n",
    "&nbsp;\n",
    "\n",
    "* Further reading…\n",
    "\n",
    "<br clear=\"all\" />\n",
    "\n",
    "----\n",
    "\n",
    "Notes on **Willem Jongman** (2007): _Gibbon Was Right: The Decline and Fall of The Roman Economy_\n",
    "\n",
    "Lecture Support: <https://github.com/braddelong/NOTEBOOK-Economic-Growth-in-Historical-Comparative-Perspective/blob/master/Willem_Jongman-Gibbon_Was_Right.ipynb>    \n",
    "<>\n",
    "\n",
    "&nbsp;\n",
    "\n",
    "NOTEBOOK: Economic Growth in Comparative-Historical Perspective: <This File: <https://www.bradford-delong.com/2050/01/notebook-economic-growth-in-historical-perspective.html>   \n",
    ">\n",
    "\n",
    "----"
   ]
  },
  {
   "cell_type": "markdown",
   "metadata": {},
   "source": [
    "## Appendix\n",
    "\n",
    "<img style=\"display:block; margin-left:auto; margin-right:auto;\" src=\"https://delong.typepad.com/.a/6a00e551f080038834022ad3a16c6a200d-pi\" alt=\"American Minute The Fall of Rome Tyranny News\" title=\"American_Minute__The_Fall_of_Rome_-_Tyranny_News.png\" border=\"0\" width=\"750\" height=\"133\" />\n",
    "\n",
    "**Comment of the Day**: in response to **Brad DeLong**: _[On Twitter](https://twitter.com/delong/status/1064557327053987842)_: For whom was the decline and fall of the western Roman Empire that commenced with the Antonine Plague a decline <https://t.co/FdZeNjvtCr>: **Carlos Noreña**: [@carlosfnorena](https://twitter.com/carlosfnorena/status/1064562415369506817): \"Yes, bad for all of those sectors, and devastating in systemic terms for this large-scale political economy. I also agree with Jongman that what he calls the \"resilience\" of the Roman central state was remarkable...\" I respond: Perhaps my problem is that I am too much a Malthusian-Ricardian to see history straight, but...<!--more-->\n",
    "\n",
    "...Population decline because climate change whomps agricultural productivity I understand: Everyone loses, and complex, civilized society may not survive because such societal systems have a hard time scaling down. Somebody still wants to have the same resources they had in the conflicts that produces go very negative sum very quickly.\n",
    "\n",
    "But population decline while agricultural productivity stays constant—due to the Antonine and JustinIan Plagues, or due to a temporary volcano winter, for example? Those have to raise agricultural productivity per farmer. And, yes, the upper class men will try to extract more from farmers. But if they could extract more from farmers, they would have done so back when they were riding high: they have and never had much charity. So from my perspective it is an uphill climb to clean that present material standards of living would decline.\n",
    "\n",
    "Now peasant life expectancy and security could decline: the _pax Romana_ was a real thing, and so was the Viking blood eagle. Now landlords could fail to recognize the new situation, and dissipate huge amounts of resources in “wars of attrition trying to extract more than could sustainably be extracted, thus leaving everybody worse off. And as cities take it in the neck the loss of economies of scale and Smithian division of labor could transform the city countryside relationship from one of extraction plus trade-for-conveniences to one of simple extraction.\n",
    "\n",
    "But I still cannot help but think that it was better to be a serf of Pemmo son of Billo Duke of Friuli in the 8th century than of Marcus Tullius Cicero in the -1st (unless you were Tiro) or (shudder) Marcus Porcius Cato in the -2nd.\n",
    " \n",
    "----\n",
    "\n",
    "    #shouldread #commentoftheday"
   ]
  }
 ],
 "metadata": {
  "kernelspec": {
   "display_name": "Python 3",
   "language": "python",
   "name": "python3"
  },
  "language_info": {
   "codemirror_mode": {
    "name": "ipython",
    "version": 3
   },
   "file_extension": ".py",
   "mimetype": "text/x-python",
   "name": "python",
   "nbconvert_exporter": "python",
   "pygments_lexer": "ipython3",
   "version": "3.6.5"
  }
 },
 "nbformat": 4,
 "nbformat_minor": 2
}
